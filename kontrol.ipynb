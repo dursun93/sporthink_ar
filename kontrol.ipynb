{
 "cells": [
  {
   "cell_type": "code",
   "execution_count": 42,
   "id": "8b3779f3",
   "metadata": {},
   "outputs": [
    {
     "name": "stderr",
     "output_type": "stream",
     "text": [
      "C:\\Users\\FromHell\\AppData\\Local\\Temp\\ipykernel_13400\\3316425520.py:4: DtypeWarning: Columns (1,22) have mixed types. Specify dtype option on import or set low_memory=False.\n",
      "  product = pd.read_csv('data/dim_product.csv')\n",
      "C:\\Users\\FromHell\\AppData\\Local\\Temp\\ipykernel_13400\\3316425520.py:6: DtypeWarning: Columns (12) have mixed types. Specify dtype option on import or set low_memory=False.\n",
      "  sales = pd.read_csv('data/history_sales.csv')\n"
     ]
    }
   ],
   "source": [
    "import pandas as pd\n",
    "from datetime import timedelta\n",
    "\n",
    "product = pd.read_csv('data/dim_product.csv')\n",
    "calendar = pd.read_csv('data/dim_calendar_pivot.csv')\n",
    "sales = pd.read_csv('data/history_sales.csv')\n",
    "cluster = pd.read_csv('k_means_store.csv')\n"
   ]
  }
 ],
 "metadata": {
  "kernelspec": {
   "display_name": "venv",
   "language": "python",
   "name": "python3"
  },
  "language_info": {
   "codemirror_mode": {
    "name": "ipython",
    "version": 3
   },
   "file_extension": ".py",
   "mimetype": "text/x-python",
   "name": "python",
   "nbconvert_exporter": "python",
   "pygments_lexer": "ipython3",
   "version": "3.13.7"
  }
 },
 "nbformat": 4,
 "nbformat_minor": 5
}
